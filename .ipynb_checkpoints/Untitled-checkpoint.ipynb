{
 "cells": [
  {
   "cell_type": "code",
   "execution_count": 3,
   "metadata": {
    "collapsed": true
   },
   "outputs": [],
   "source": [
    "from enigma.rotors.rotor import Rotor\n",
    "from enigma.plugboard import Plugboard\n",
    "from enigma.machine import EnigmaMachine"
   ]
  },
  {
   "cell_type": "code",
   "execution_count": 4,
   "metadata": {
    "collapsed": true
   },
   "outputs": [],
   "source": [
    "r1 = Rotor('my rotor1', 'EKMFLGDQVZNTOWYHXUSPAIBRCJ', ring_setting=0, stepping='Q')\n",
    "r2 = Rotor('my rotor2', 'AJDKSIRUXBLHWTMCQGZNPYFVOE', ring_setting=5, stepping='E')\n",
    "r3 = Rotor('my rotor3', 'EJMZALYXVBWFCRQUONTSPIKHGD', ring_setting=15, stepping='V')\n",
    "\n",
    "reflector = Rotor('my reflector', 'FVPJIAOYEDRZXWGCTKUQSBNMHL')\n",
    "\n",
    "pb = Plugboard.from_key_sheet('PO ML IU BJ NH YT GB VF RE DA')\n",
    "\n",
    "machine = EnigmaMachine([r1, r2, r3], reflector, pb)\n"
   ]
  },
  {
   "cell_type": "code",
   "execution_count": 5,
   "metadata": {
    "collapsed": true
   },
   "outputs": [],
   "source": [
    "# set machine initial starting position\n",
    "machine.set_display('WXC')"
   ]
  },
  {
   "cell_type": "code",
   "execution_count": 11,
   "metadata": {
    "collapsed": false
   },
   "outputs": [
    {
     "name": "stdout",
     "output_type": "stream",
     "text": [
      "CRE\n"
     ]
    }
   ],
   "source": [
    "# decrypt the message key\n",
    "msg_key = machine.process_text('KCH')\n",
    "print(msg_key)"
   ]
  },
  {
   "cell_type": "code",
   "execution_count": 7,
   "metadata": {
    "collapsed": true
   },
   "outputs": [],
   "source": [
    "# decrypt the cipher text with the unencrypted message key\n",
    "machine.set_display(msg_key)"
   ]
  },
  {
   "cell_type": "code",
   "execution_count": 8,
   "metadata": {
    "collapsed": true
   },
   "outputs": [],
   "source": [
    "ciphertext = 'NIBLFMYMLLUFWCASCSSNVHAZ'\n",
    "plaintext = machine.process_text(ciphertext)"
   ]
  },
  {
   "cell_type": "code",
   "execution_count": 9,
   "metadata": {
    "collapsed": false
   },
   "outputs": [
    {
     "name": "stdout",
     "output_type": "stream",
     "text": [
      "MEUGOXPASCXLJJVTJKOTMGDB\n"
     ]
    }
   ],
   "source": [
    "print(plaintext)"
   ]
  },
  {
   "cell_type": "code",
   "execution_count": null,
   "metadata": {
    "collapsed": true
   },
   "outputs": [],
   "source": []
  }
 ],
 "metadata": {
  "kernelspec": {
   "display_name": "Python 2",
   "language": "python",
   "name": "python2"
  },
  "language_info": {
   "codemirror_mode": {
    "name": "ipython",
    "version": 2
   },
   "file_extension": ".py",
   "mimetype": "text/x-python",
   "name": "python",
   "nbconvert_exporter": "python",
   "pygments_lexer": "ipython2",
   "version": "2.7.11"
  }
 },
 "nbformat": 4,
 "nbformat_minor": 0
}
