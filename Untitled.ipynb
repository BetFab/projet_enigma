{
 "cells": [
  {
   "cell_type": "code",
   "execution_count": 2,
   "metadata": {
    "collapsed": true
   },
   "outputs": [],
   "source": [
    "from enigma.rotors.rotor import Rotor\n",
    "from enigma.plugboard import Plugboard\n",
    "from enigma.machine import EnigmaMachine"
   ]
  },
  {
   "cell_type": "code",
   "execution_count": 97,
   "metadata": {
    "collapsed": false
   },
   "outputs": [],
   "source": [
    "r3 = Rotor('my rotor3', 'EKMFLGDQVZNTOWYHXUSPAIBRCJ', ring_setting=0, stepping='Q')\n",
    "r2 = Rotor('my rotor2', 'AJDKSIRUXBLHWTMCQGZNPYFVOE', ring_setting=0, stepping='E')\n",
    "r1 = Rotor('my rotor1', 'BDFHJLCPRTXVZNYEIWGAKMUSQO', ring_setting=0, stepping='V')\n",
    "\n",
    "reflector = Rotor('my reflector', 'EJMZALYXVBWFCRQUONTSPIKHGD')\n",
    "\n",
    "pb = Plugboard.from_key_sheet('')\n",
    "\n",
    "machine = EnigmaMachine([r1, r2, r3], reflector, pb)\n"
   ]
  },
  {
   "cell_type": "code",
   "execution_count": 98,
   "metadata": {
    "collapsed": false
   },
   "outputs": [],
   "source": [
    "#print(r3)"
   ]
  },
  {
   "cell_type": "code",
   "execution_count": 99,
   "metadata": {
    "collapsed": true
   },
   "outputs": [],
   "source": [
    "# set machine initial starting position\n",
    "machine.set_display('EAB')"
   ]
  },
  {
   "cell_type": "code",
   "execution_count": 100,
   "metadata": {
    "collapsed": false
   },
   "outputs": [
    {
     "name": "stdout",
     "output_type": "stream",
     "text": [
      "CGN\n"
     ]
    }
   ],
   "source": [
    "# decrypt the message key\n",
    "msg_key = machine.process_text('KCH')\n",
    "print(msg_key)"
   ]
  },
  {
   "cell_type": "code",
   "execution_count": 91,
   "metadata": {
    "collapsed": true
   },
   "outputs": [],
   "source": [
    "# decrypt the cipher text with the unencrypted message key\n",
    "machine.set_display(msg_key)"
   ]
  },
  {
   "cell_type": "code",
   "execution_count": 92,
   "metadata": {
    "collapsed": true
   },
   "outputs": [],
   "source": [
    "ciphertext = 'NIBLFMYMLLUFWCASCSSNVHAZ'\n",
    "plaintext = machine.process_text(ciphertext)"
   ]
  },
  {
   "cell_type": "code",
   "execution_count": 34,
   "metadata": {
    "collapsed": false
   },
   "outputs": [
    {
     "name": "stdout",
     "output_type": "stream",
     "text": [
      "ZVRXXWLFZGSZCRMFBRHPKDHS\n"
     ]
    }
   ],
   "source": [
    "print(plaintext)"
   ]
  },
  {
   "cell_type": "code",
   "execution_count": null,
   "metadata": {
    "collapsed": true
   },
   "outputs": [],
   "source": []
  },
  {
   "cell_type": "code",
   "execution_count": null,
   "metadata": {
    "collapsed": true
   },
   "outputs": [],
   "source": []
  }
 ],
 "metadata": {
  "kernelspec": {
   "display_name": "Python 2",
   "language": "python",
   "name": "python2"
  },
  "language_info": {
   "codemirror_mode": {
    "name": "ipython",
    "version": 2
   },
   "file_extension": ".py",
   "mimetype": "text/x-python",
   "name": "python",
   "nbconvert_exporter": "python",
   "pygments_lexer": "ipython2",
   "version": "2.7.11"
  }
 },
 "nbformat": 4,
 "nbformat_minor": 0
}
